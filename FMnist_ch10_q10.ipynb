{
  "nbformat": 4,
  "nbformat_minor": 0,
  "metadata": {
    "colab": {
      "name": "FMnist_ch10_q10.ipynb",
      "provenance": [],
      "collapsed_sections": [],
      "authorship_tag": "ABX9TyPAqkeCyaRlsrZLb2qrqfsR",
      "include_colab_link": true
    },
    "kernelspec": {
      "name": "python3",
      "display_name": "Python 3"
    },
    "language_info": {
      "name": "python"
    }
  },
  "cells": [
    {
      "cell_type": "markdown",
      "metadata": {
        "id": "view-in-github",
        "colab_type": "text"
      },
      "source": [
        "<a href=\"https://colab.research.google.com/github/CodeWithAlvin/ml_practice/blob/main/FMnist_ch10_q10.ipynb\" target=\"_parent\"><img src=\"https://colab.research.google.com/assets/colab-badge.svg\" alt=\"Open In Colab\"/></a>"
      ]
    },
    {
      "cell_type": "code",
      "metadata": {
        "id": "3XLbK3Itmnd2"
      },
      "source": [
        "import tensorflow as tf\n",
        "from tensorflow import keras"
      ],
      "execution_count": 1,
      "outputs": []
    },
    {
      "cell_type": "code",
      "metadata": {
        "id": "VUT8t4OSnB4-"
      },
      "source": [
        "import keras.datasets.mnist as mnist\n",
        "from sklearn.model_selection import train_test_split\n",
        "from sklearn.preprocessing import StandardScaler"
      ],
      "execution_count": 15,
      "outputs": []
    },
    {
      "cell_type": "code",
      "metadata": {
        "colab": {
          "base_uri": "https://localhost:8080/"
        },
        "id": "QSc63ITMnMVH",
        "outputId": "3ddc79df-3963-48ce-d71d-f4876df56e01"
      },
      "source": [
        "data=mnist.load_data()"
      ],
      "execution_count": 3,
      "outputs": [
        {
          "output_type": "stream",
          "text": [
            "Downloading data from https://storage.googleapis.com/tensorflow/tf-keras-datasets/mnist.npz\n",
            "11493376/11490434 [==============================] - 0s 0us/step\n"
          ],
          "name": "stdout"
        }
      ]
    },
    {
      "cell_type": "code",
      "metadata": {
        "id": "CI4gQfTznMZK"
      },
      "source": [
        "train,test=data"
      ],
      "execution_count": 68,
      "outputs": []
    },
    {
      "cell_type": "code",
      "metadata": {
        "id": "mQIcTBsXnMeo"
      },
      "source": [
        "X_train_full,y_train_full=train\n",
        "X_test,y_test=test"
      ],
      "execution_count": 69,
      "outputs": []
    },
    {
      "cell_type": "code",
      "metadata": {
        "id": "4sTHtrZ9oMDv"
      },
      "source": [
        "X_train,X_val,y_train,y_val=train_test_split(X_train_full,y_train_full,test_size=0.15,random_state=42)"
      ],
      "execution_count": 70,
      "outputs": []
    },
    {
      "cell_type": "code",
      "metadata": {
        "id": "Nxk7OwvLJajJ"
      },
      "source": [
        "def flatten_and_scale(X):\n",
        "    X_new=[]\n",
        "    for array in X:\n",
        "        X_new.append(array.reshape(784))\n",
        "    return StandardScaler().fit_transform(np.array(X_new))"
      ],
      "execution_count": 67,
      "outputs": []
    },
    {
      "cell_type": "code",
      "metadata": {
        "id": "17hQXj2NJALF"
      },
      "source": [
        "X_test=flatten_and_scale(X_test)\n",
        "X_train=flatten_and_scale(X_train)\n",
        "X_val=flatten_and_scale(X_val)"
      ],
      "execution_count": 71,
      "outputs": []
    },
    {
      "cell_type": "code",
      "metadata": {
        "id": "WGahbVY-oMK-"
      },
      "source": [
        "model=keras.models.Sequential([\n",
        "    keras.layers.Input(shape=(784,)),\n",
        "    keras.layers.Dense(300, activation=\"relu\"),\n",
        "    keras.layers.Dense(300, activation=\"tanh\"),\n",
        "    keras.layers.Dense(300, activation=\"tanh\"),\n",
        "    keras.layers.Dense(10, activation=\"softmax\")\n",
        "])"
      ],
      "execution_count": 79,
      "outputs": []
    },
    {
      "cell_type": "code",
      "metadata": {
        "id": "X1Z4EdNJpVuW"
      },
      "source": [
        "model.compile(loss=\"sparse_categorical_crossentropy\",optimizer=\"sgd\",metrics=[\"accuracy\"])"
      ],
      "execution_count": 80,
      "outputs": []
    },
    {
      "cell_type": "markdown",
      "metadata": {
        "id": "iDpM2Uh3rWTx"
      },
      "source": [
        "### some Callbacks"
      ]
    },
    {
      "cell_type": "code",
      "metadata": {
        "id": "KteJ-_fJrVsf"
      },
      "source": [
        "checkpoint=keras.callbacks.ModelCheckpoint(\"F_mnist.h5\",save_best_only=True)\n",
        "early_bird=keras.callbacks.EarlyStopping(patience=10,restore_best_weights=True)"
      ],
      "execution_count": 81,
      "outputs": []
    },
    {
      "cell_type": "code",
      "metadata": {
        "colab": {
          "base_uri": "https://localhost:8080/"
        },
        "id": "a71fot-eq_vh",
        "outputId": "7b6346cc-9162-431a-b0fb-febdeeb5c9b1"
      },
      "source": [
        "history=model.fit(X_train,y_train,\n",
        " epochs=100,\n",
        " validation_data=(X_val,y_val),\n",
        " callbacks=[checkpoint, early_bird]\n",
        ")"
      ],
      "execution_count": 82,
      "outputs": [
        {
          "output_type": "stream",
          "text": [
            "Epoch 1/100\n",
            "1594/1594 [==============================] - 8s 5ms/step - loss: 0.6814 - accuracy: 0.8081 - val_loss: 0.2328 - val_accuracy: 0.9294\n",
            "Epoch 2/100\n",
            "1594/1594 [==============================] - 8s 5ms/step - loss: 0.1970 - accuracy: 0.9421 - val_loss: 0.1761 - val_accuracy: 0.9482\n",
            "Epoch 3/100\n",
            "1594/1594 [==============================] - 8s 5ms/step - loss: 0.1419 - accuracy: 0.9590 - val_loss: 0.1503 - val_accuracy: 0.9553\n",
            "Epoch 4/100\n",
            "1594/1594 [==============================] - 8s 5ms/step - loss: 0.1075 - accuracy: 0.9703 - val_loss: 0.1323 - val_accuracy: 0.9596\n",
            "Epoch 5/100\n",
            "1594/1594 [==============================] - 8s 5ms/step - loss: 0.0840 - accuracy: 0.9769 - val_loss: 0.1226 - val_accuracy: 0.9627\n",
            "Epoch 6/100\n",
            "1594/1594 [==============================] - 8s 5ms/step - loss: 0.0670 - accuracy: 0.9820 - val_loss: 0.1146 - val_accuracy: 0.9648\n",
            "Epoch 7/100\n",
            "1594/1594 [==============================] - 8s 5ms/step - loss: 0.0542 - accuracy: 0.9862 - val_loss: 0.1088 - val_accuracy: 0.9666\n",
            "Epoch 8/100\n",
            "1594/1594 [==============================] - 8s 5ms/step - loss: 0.0437 - accuracy: 0.9899 - val_loss: 0.1059 - val_accuracy: 0.9678\n",
            "Epoch 9/100\n",
            "1594/1594 [==============================] - 8s 5ms/step - loss: 0.0376 - accuracy: 0.9916 - val_loss: 0.1034 - val_accuracy: 0.9664\n",
            "Epoch 10/100\n",
            "1594/1594 [==============================] - 8s 5ms/step - loss: 0.0294 - accuracy: 0.9937 - val_loss: 0.1028 - val_accuracy: 0.9680\n",
            "Epoch 11/100\n",
            "1594/1594 [==============================] - 8s 5ms/step - loss: 0.0241 - accuracy: 0.9961 - val_loss: 0.1014 - val_accuracy: 0.9679\n",
            "Epoch 12/100\n",
            "1594/1594 [==============================] - 8s 5ms/step - loss: 0.0204 - accuracy: 0.9967 - val_loss: 0.1011 - val_accuracy: 0.9690\n",
            "Epoch 13/100\n",
            "1594/1594 [==============================] - 8s 5ms/step - loss: 0.0168 - accuracy: 0.9978 - val_loss: 0.0996 - val_accuracy: 0.9693\n",
            "Epoch 14/100\n",
            "1594/1594 [==============================] - 8s 5ms/step - loss: 0.0140 - accuracy: 0.9985 - val_loss: 0.1001 - val_accuracy: 0.9700\n",
            "Epoch 15/100\n",
            "1594/1594 [==============================] - 8s 5ms/step - loss: 0.0116 - accuracy: 0.9991 - val_loss: 0.1020 - val_accuracy: 0.9698\n",
            "Epoch 16/100\n",
            "1594/1594 [==============================] - 8s 5ms/step - loss: 0.0102 - accuracy: 0.9991 - val_loss: 0.1013 - val_accuracy: 0.9699\n",
            "Epoch 17/100\n",
            "1594/1594 [==============================] - 8s 5ms/step - loss: 0.0092 - accuracy: 0.9991 - val_loss: 0.1014 - val_accuracy: 0.9701\n",
            "Epoch 18/100\n",
            "1594/1594 [==============================] - 8s 5ms/step - loss: 0.0084 - accuracy: 0.9992 - val_loss: 0.1020 - val_accuracy: 0.9706\n",
            "Epoch 19/100\n",
            "1594/1594 [==============================] - 8s 5ms/step - loss: 0.0064 - accuracy: 0.9998 - val_loss: 0.1022 - val_accuracy: 0.9700\n",
            "Epoch 20/100\n",
            "1594/1594 [==============================] - 8s 5ms/step - loss: 0.0061 - accuracy: 0.9997 - val_loss: 0.1021 - val_accuracy: 0.9707\n",
            "Epoch 21/100\n",
            "1594/1594 [==============================] - 8s 5ms/step - loss: 0.0055 - accuracy: 0.9998 - val_loss: 0.1028 - val_accuracy: 0.9707\n",
            "Epoch 22/100\n",
            "1594/1594 [==============================] - 8s 5ms/step - loss: 0.0049 - accuracy: 0.9997 - val_loss: 0.1027 - val_accuracy: 0.9709\n",
            "Epoch 23/100\n",
            "1594/1594 [==============================] - 8s 5ms/step - loss: 0.0043 - accuracy: 1.0000 - val_loss: 0.1034 - val_accuracy: 0.9714\n"
          ],
          "name": "stdout"
        }
      ]
    },
    {
      "cell_type": "code",
      "metadata": {
        "colab": {
          "base_uri": "https://localhost:8080/",
          "height": 189
        },
        "id": "5lUQKMXSGjgg",
        "outputId": "bd13328e-535b-4197-fc6d-4845bb943929"
      },
      "source": [
        "import pandas as pd\n",
        "import matplotlib.pyplot as plt\n",
        "pd.DataFrame(history.history).plot(figsize=(8,5))\n",
        "plt.gca().set_ylim(0,1)\n",
        "plt.grid(True)\n",
        "plt.show()"
      ],
      "execution_count": 83,
      "outputs": [
        {
          "output_type": "display_data",
          "data": {
            "image/png": "[encoded data removed]",
            "text/plain": [
              "<Figure size 576x360 with 1 Axes>"
            ]
          },
          "metadata": {
            "tags": [],
            "needs_background": "light"
          }
        }
      ]
    },
    {
      "cell_type": "code",
      "metadata": {
        "id": "9YxyG5ywq_1C",
        "colab": {
          "base_uri": "https://localhost:8080/"
        },
        "outputId": "f6f80a8a-e099-43ef-c3ab-e20f005c18dc"
      },
      "source": [
        "from sklearn.metrics import f1_score, precision_score, recall_score, confusion_matrix\n",
        "import numpy as np\n",
        " \n",
        "y_pred1 = model.predict(X_test)\n",
        "y_pred = np.argmax(y_pred1, axis=1)\n",
        " \n",
        "# Print f1, precision, and recall scores\n",
        "print(precision_score(y_test, y_pred , average=\"macro\"))\n",
        "print(recall_score(y_test, y_pred , average=\"macro\"))\n",
        "print(f1_score(y_test, y_pred , average=\"macro\"))"
      ],
      "execution_count": 84,
      "outputs": [
        {
          "output_type": "stream",
          "text": [
            "0.9691232595953354\n",
            "0.9690425905470734\n",
            "0.969052389532562\n"
          ],
          "name": "stdout"
        }
      ]
    }
  ]
}
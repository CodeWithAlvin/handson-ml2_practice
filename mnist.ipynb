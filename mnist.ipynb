{
  "nbformat": 4,
  "nbformat_minor": 0,
  "metadata": {
    "colab": {
      "name": "mnist.ipynb",
      "provenance": [],
      "collapsed_sections": [],
      "toc_visible": true,
      "authorship_tag": "ABX9TyMcGltgZ5AajhcwbHK5DqJy",
      "include_colab_link": true
    },
    "kernelspec": {
      "name": "python3",
      "display_name": "Python 3"
    }
  },
  "cells": [
    {
      "cell_type": "markdown",
      "metadata": {
        "id": "view-in-github",
        "colab_type": "text"
      },
      "source": [
        "<a href=\"https://colab.research.google.com/github/CodeWithAlvin/ml_practice/blob/main/mnist.ipynb\" target=\"_parent\"><img src=\"https://colab.research.google.com/assets/colab-badge.svg\" alt=\"Open In Colab\"/></a>"
      ]
    },
    {
      "cell_type": "code",
      "metadata": {
        "id": "udL7PCeOuwEj"
      },
      "source": [
        "from sklearn.datasets import fetch_openml"
      ],
      "execution_count": 1,
      "outputs": []
    },
    {
      "cell_type": "code",
      "metadata": {
        "id": "oJexMWfGwshD"
      },
      "source": [
        "mnist = fetch_openml('mnist_784')"
      ],
      "execution_count": 2,
      "outputs": []
    },
    {
      "cell_type": "code",
      "metadata": {
        "id": "ChkscUHUvdtr"
      },
      "source": [
        "X = mnist.data\r\n",
        "y = mnist.target"
      ],
      "execution_count": 3,
      "outputs": []
    },
    {
      "cell_type": "code",
      "metadata": {
        "id": "gkgfxUwAwXeU"
      },
      "source": [
        "X_train,X_test=X[:50000],X[50000:]"
      ],
      "execution_count": 4,
      "outputs": []
    },
    {
      "cell_type": "code",
      "metadata": {
        "id": "gYg5imo2wYlE"
      },
      "source": [
        "y_train,y_test=y[:50000],y[50000:]"
      ],
      "execution_count": 5,
      "outputs": []
    },
    {
      "cell_type": "code",
      "metadata": {
        "id": "tDRIrpakxt9g"
      },
      "source": [
        "from sklearn.ensemble import RandomForestClassifier"
      ],
      "execution_count": 6,
      "outputs": []
    },
    {
      "cell_type": "code",
      "metadata": {
        "id": "o5OWPalAx-Hr"
      },
      "source": [
        "rnd_clf=RandomForestClassifier(n_estimators=100,max_depth=30)"
      ],
      "execution_count": 7,
      "outputs": []
    },
    {
      "cell_type": "code",
      "metadata": {
        "colab": {
          "base_uri": "https://localhost:8080/"
        },
        "id": "T8Vc_4HkySmI",
        "outputId": "5278f960-e4c3-4902-b7cd-2baa99256aa9"
      },
      "source": [
        "rnd_clf.fit(X_train,y_train)"
      ],
      "execution_count": 8,
      "outputs": [
        {
          "output_type": "execute_result",
          "data": {
            "text/plain": [
              "RandomForestClassifier(bootstrap=True, ccp_alpha=0.0, class_weight=None,\n",
              "                       criterion='gini', max_depth=30, max_features='auto',\n",
              "                       max_leaf_nodes=None, max_samples=None,\n",
              "                       min_impurity_decrease=0.0, min_impurity_split=None,\n",
              "                       min_samples_leaf=1, min_samples_split=2,\n",
              "                       min_weight_fraction_leaf=0.0, n_estimators=100,\n",
              "                       n_jobs=None, oob_score=False, random_state=None,\n",
              "                       verbose=0, warm_start=False)"
            ]
          },
          "metadata": {
            "tags": []
          },
          "execution_count": 8
        }
      ]
    },
    {
      "cell_type": "code",
      "metadata": {
        "id": "fnyIxaQfyYCQ"
      },
      "source": [
        "y_pred=rnd_clf.predict(X_train)"
      ],
      "execution_count": 9,
      "outputs": []
    },
    {
      "cell_type": "code",
      "metadata": {
        "id": "y90E9UBFy6k7"
      },
      "source": [
        "from sklearn.metrics import f1_score\r\n",
        "from sklearn.metrics import precision_score,recall_score"
      ],
      "execution_count": 10,
      "outputs": []
    },
    {
      "cell_type": "code",
      "metadata": {
        "id": "ytt6hPTDyhir"
      },
      "source": [
        "def analyze_model(y_orignal,y_pred,):\r\n",
        "  f1=f1_score(y_orignal, y_pred,average='micro')\r\n",
        "  precision=precision_score(y_orignal,y_pred,average='micro')\r\n",
        "  recall=recall_score(y_orignal,y_pred,average='micro')\r\n",
        "  print(f\"f1-score : {f1}\\nprecision : {precision}\\nrecall : {recall}\")"
      ],
      "execution_count": 11,
      "outputs": []
    },
    {
      "cell_type": "code",
      "metadata": {
        "colab": {
          "base_uri": "https://localhost:8080/"
        },
        "id": "vGtJa62Oy19X",
        "outputId": "af2dcf31-3632-48e4-c9fa-aa1e81794e24"
      },
      "source": [
        "analyze_model(y_train,y_pred)"
      ],
      "execution_count": 12,
      "outputs": [
        {
          "output_type": "stream",
          "text": [
            "f1-score : 1.0\n",
            "precision : 1.0\n",
            "recall : 1.0\n"
          ],
          "name": "stdout"
        }
      ]
    },
    {
      "cell_type": "code",
      "metadata": {
        "id": "5ttvzg2_zkD7"
      },
      "source": [
        "y_test_pred=rnd_clf.predict(X_test)"
      ],
      "execution_count": 13,
      "outputs": []
    },
    {
      "cell_type": "code",
      "metadata": {
        "colab": {
          "base_uri": "https://localhost:8080/"
        },
        "id": "RBwDWDTRzrZE",
        "outputId": "0dceb9ae-335c-481f-80f7-db0ea55ce29f"
      },
      "source": [
        "analyze_model(y_test,y_test_pred)"
      ],
      "execution_count": 14,
      "outputs": [
        {
          "output_type": "stream",
          "text": [
            "f1-score : 0.97\n",
            "precision : 0.97\n",
            "recall : 0.97\n"
          ],
          "name": "stdout"
        }
      ]
    },
    {
      "cell_type": "code",
      "metadata": {
        "id": "25zwNp-nzzeI"
      },
      "source": [
        "import pickle"
      ],
      "execution_count": 17,
      "outputs": []
    },
    {
      "cell_type": "code",
      "metadata": {
        "id": "lcGx6trVBHoZ"
      },
      "source": [
        "with open(\"mnist_model.pkl\",\"wb\") as f:\n",
        "  pickle.dump(rnd_clf,f)"
      ],
      "execution_count": 18,
      "outputs": []
    },
    {
      "cell_type": "code",
      "metadata": {
        "id": "duE7jlQKBaIe"
      },
      "source": [
        ""
      ],
      "execution_count": null,
      "outputs": []
    }
  ]
}
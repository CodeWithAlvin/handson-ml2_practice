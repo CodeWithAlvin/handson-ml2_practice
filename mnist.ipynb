{
  "nbformat": 4,
  "nbformat_minor": 0,
  "metadata": {
    "colab": {
      "name": "mnist.ipynb",
      "provenance": [],
      "collapsed_sections": [],
      "toc_visible": true,
      "authorship_tag": "ABX9TyN9ibPsHZha6j2WqGlnRghc",
      "include_colab_link": true
    },
    "kernelspec": {
      "name": "python3",
      "display_name": "Python 3"
    }
  },
  "cells": [
    {
      "cell_type": "markdown",
      "metadata": {
        "id": "view-in-github",
        "colab_type": "text"
      },
      "source": [
        "<a href=\"https://colab.research.google.com/github/CodeWithAlvin/handson-ml2_practice/blob/main/mnist.ipynb\" target=\"_parent\"><img src=\"https://colab.research.google.com/assets/colab-badge.svg\" alt=\"Open In Colab\"/></a>"
      ]
    },
    {
      "cell_type": "code",
      "metadata": {
        "id": "udL7PCeOuwEj"
      },
      "source": [
        "from sklearn.datasets import fetch_openml"
      ],
      "execution_count": 13,
      "outputs": []
    },
    {
      "cell_type": "code",
      "metadata": {
        "id": "CQeQuwW2vZDt"
      },
      "source": [
        "from sklearn.decomposition import PCA"
      ],
      "execution_count": 17,
      "outputs": []
    },
    {
      "cell_type": "code",
      "metadata": {
        "id": "oJexMWfGwshD"
      },
      "source": [
        "mnist = fetch_openml('mnist_784')"
      ],
      "execution_count": 14,
      "outputs": []
    },
    {
      "cell_type": "code",
      "metadata": {
        "id": "ChkscUHUvdtr"
      },
      "source": [
        "X = mnist.data\r\n",
        "y = mnist.target"
      ],
      "execution_count": 36,
      "outputs": []
    },
    {
      "cell_type": "code",
      "metadata": {
        "id": "n98s1CSWxvhR"
      },
      "source": [
        "pca=PCA(n_components=154)\r\n",
        "X=pca.fit_transform(X)"
      ],
      "execution_count": 23,
      "outputs": []
    },
    {
      "cell_type": "code",
      "metadata": {
        "id": "gkgfxUwAwXeU"
      },
      "source": [
        "X_train,X_test=X[:50000],X[50000:]"
      ],
      "execution_count": 37,
      "outputs": []
    },
    {
      "cell_type": "code",
      "metadata": {
        "id": "gYg5imo2wYlE"
      },
      "source": [
        "y_train,y_test=y[:50000],y[50000:]"
      ],
      "execution_count": 38,
      "outputs": []
    },
    {
      "cell_type": "code",
      "metadata": {
        "id": "tDRIrpakxt9g"
      },
      "source": [
        "from sklearn.ensemble import RandomForestClassifier"
      ],
      "execution_count": 39,
      "outputs": []
    },
    {
      "cell_type": "code",
      "metadata": {
        "id": "o5OWPalAx-Hr"
      },
      "source": [
        "rnd_clf=RandomForestClassifier(n_estimators=100,max_depth=30)"
      ],
      "execution_count": 40,
      "outputs": []
    },
    {
      "cell_type": "code",
      "metadata": {
        "colab": {
          "base_uri": "https://localhost:8080/"
        },
        "id": "T8Vc_4HkySmI",
        "outputId": "81f33551-87ad-4a9a-bcb8-644a4c9e5728"
      },
      "source": [
        "rnd_clf.fit(X_train,y_train)"
      ],
      "execution_count": 41,
      "outputs": [
        {
          "output_type": "execute_result",
          "data": {
            "text/plain": [
              "RandomForestClassifier(bootstrap=True, ccp_alpha=0.0, class_weight=None,\n",
              "                       criterion='gini', max_depth=30, max_features='auto',\n",
              "                       max_leaf_nodes=None, max_samples=None,\n",
              "                       min_impurity_decrease=0.0, min_impurity_split=None,\n",
              "                       min_samples_leaf=1, min_samples_split=2,\n",
              "                       min_weight_fraction_leaf=0.0, n_estimators=100,\n",
              "                       n_jobs=None, oob_score=False, random_state=None,\n",
              "                       verbose=0, warm_start=False)"
            ]
          },
          "metadata": {
            "tags": []
          },
          "execution_count": 41
        }
      ]
    },
    {
      "cell_type": "code",
      "metadata": {
        "id": "fnyIxaQfyYCQ"
      },
      "source": [
        "y_pred=rnd_clf.predict(X_train)"
      ],
      "execution_count": 42,
      "outputs": []
    },
    {
      "cell_type": "code",
      "metadata": {
        "id": "y90E9UBFy6k7"
      },
      "source": [
        "from sklearn.metrics import f1_score\r\n",
        "from sklearn.metrics import precision_score,recall_score"
      ],
      "execution_count": 43,
      "outputs": []
    },
    {
      "cell_type": "code",
      "metadata": {
        "id": "ytt6hPTDyhir"
      },
      "source": [
        "def analyze_model(y_orignal,y_pred,):\r\n",
        "  f1=f1_score(y_orignal, y_pred,average='micro')\r\n",
        "  precision=precision_score(y_orignal,y_pred,average='micro')\r\n",
        "  recall=recall_score(y_orignal,y_pred,average='micro')\r\n",
        "  print(f\"f1-score : {f1}\\nprecision : {precision}\\nrecall : {recall}\")"
      ],
      "execution_count": 44,
      "outputs": []
    },
    {
      "cell_type": "code",
      "metadata": {
        "colab": {
          "base_uri": "https://localhost:8080/"
        },
        "id": "vGtJa62Oy19X",
        "outputId": "8e1888b9-9d23-43b1-eeee-89b96d2e296c"
      },
      "source": [
        "analyze_model(y_train,y_pred)"
      ],
      "execution_count": 45,
      "outputs": [
        {
          "output_type": "stream",
          "text": [
            "f1-score : 1.0\n",
            "precision : 1.0\n",
            "recall : 1.0\n"
          ],
          "name": "stdout"
        }
      ]
    },
    {
      "cell_type": "code",
      "metadata": {
        "id": "5ttvzg2_zkD7"
      },
      "source": [
        "y_test_pred=rnd_clf.predict(X_test)"
      ],
      "execution_count": 46,
      "outputs": []
    },
    {
      "cell_type": "code",
      "metadata": {
        "colab": {
          "base_uri": "https://localhost:8080/"
        },
        "id": "RBwDWDTRzrZE",
        "outputId": "3c21691b-31e2-4535-e83f-a7e76e5d34ec"
      },
      "source": [
        "analyze_model(y_test,y_test_pred)"
      ],
      "execution_count": 47,
      "outputs": [
        {
          "output_type": "stream",
          "text": [
            "f1-score : 0.97015\n",
            "precision : 0.97015\n",
            "recall : 0.97015\n"
          ],
          "name": "stdout"
        }
      ]
    },
    {
      "cell_type": "code",
      "metadata": {
        "id": "25zwNp-nzzeI"
      },
      "source": [
        ""
      ],
      "execution_count": null,
      "outputs": []
    }
  ]
}
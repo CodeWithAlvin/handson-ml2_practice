{
  "nbformat": 4,
  "nbformat_minor": 0,
  "metadata": {
    "colab": {
      "name": "FashionMnist_CH10.ipynb",
      "provenance": [],
      "collapsed_sections": [],
      "authorship_tag": "ABX9TyMxEK4+u3BUFxTs4lB3L1rP",
      "include_colab_link": true
    },
    "kernelspec": {
      "name": "python3",
      "display_name": "Python 3"
    },
    "language_info": {
      "name": "python"
    }
  },
  "cells": [
    {
      "cell_type": "markdown",
      "metadata": {
        "id": "view-in-github",
        "colab_type": "text"
      },
      "source": [
        "<a href=\"https://colab.research.google.com/github/CodeWithAlvin/ml_practice/blob/main/FashionMnist_CH10.ipynb\" target=\"_parent\"><img src=\"https://colab.research.google.com/assets/colab-badge.svg\" alt=\"Open In Colab\"/></a>"
      ]
    },
    {
      "cell_type": "code",
      "metadata": {
        "id": "qKogpsFp-t8E"
      },
      "source": [
        "import tensorflow as tf\n",
        "from tensorflow import keras"
      ],
      "execution_count": 5,
      "outputs": []
    },
    {
      "cell_type": "code",
      "metadata": {
        "id": "7lI3eLSd_NVn"
      },
      "source": [
        "data=keras.datasets.fashion_mnist"
      ],
      "execution_count": 6,
      "outputs": []
    },
    {
      "cell_type": "code",
      "metadata": {
        "id": "KfDwLah6_NiG"
      },
      "source": [
        "(X_train_full,y_train_full),(X_test,y_test)=data.load_data()"
      ],
      "execution_count": 32,
      "outputs": []
    },
    {
      "cell_type": "markdown",
      "metadata": {
        "id": "9BUUKM-9__bV"
      },
      "source": [
        "## creating a validation set"
      ]
    },
    {
      "cell_type": "code",
      "metadata": {
        "id": "99jitsLp_NsU"
      },
      "source": [
        "X_valid,X_train=X_train_full[:5000]/255,X_train_full[5000:]/255\n",
        "y_valid,y_train=y_train_full[:5000],y_train_full[5000:]"
      ],
      "execution_count": 8,
      "outputs": []
    },
    {
      "cell_type": "code",
      "metadata": {
        "id": "f0Zc3jfg_N2K"
      },
      "source": [
        "class_name=[\"T-shirt/top\",\"Trousers\",\"Pullover\",\"Dress\",\"Coat\",\"Sandal\",\"Shirt\",\"Sneaker\",\"Bag\",\"Ankle boot\"]"
      ],
      "execution_count": 10,
      "outputs": []
    },
    {
      "cell_type": "code",
      "metadata": {
        "id": "iuw0dkonCiA0"
      },
      "source": [
        "model=keras.models.Sequential([\n",
        "keras.layers.Flatten(input_shape=[28,28]),\n",
        "keras.layers.Dense(300, activation=\"relu\"),\n",
        "keras.layers.Dense(100, activation=\"relu\"),\n",
        "keras.layers.Dense(10, activation=\"softmax\")])"
      ],
      "execution_count": 15,
      "outputs": []
    },
    {
      "cell_type": "code",
      "metadata": {
        "colab": {
          "base_uri": "https://localhost:8080/"
        },
        "id": "WnkP_XHpDjZZ",
        "outputId": "18d534b9-257a-4728-8923-52dd1a9122e9"
      },
      "source": [
        "model.summary()"
      ],
      "execution_count": 16,
      "outputs": [
        {
          "output_type": "stream",
          "text": [
            "Model: \"sequential_2\"\n",
            "_________________________________________________________________\n",
            "Layer (type)                 Output Shape              Param #   \n",
            "=================================================================\n",
            "flatten_2 (Flatten)          (None, 784)               0         \n",
            "_________________________________________________________________\n",
            "dense_6 (Dense)              (None, 300)               235500    \n",
            "_________________________________________________________________\n",
            "dense_7 (Dense)              (None, 100)               30100     \n",
            "_________________________________________________________________\n",
            "dense_8 (Dense)              (None, 10)                1010      \n",
            "=================================================================\n",
            "Total params: 266,610\n",
            "Trainable params: 266,610\n",
            "Non-trainable params: 0\n",
            "_________________________________________________________________\n"
          ],
          "name": "stdout"
        }
      ]
    },
    {
      "cell_type": "code",
      "metadata": {
        "colab": {
          "base_uri": "https://localhost:8080/"
        },
        "id": "_rv_kNEjDjoU",
        "outputId": "962435cf-1c83-4c26-d6a7-6af081ec0314"
      },
      "source": [
        "model.layers"
      ],
      "execution_count": 18,
      "outputs": [
        {
          "output_type": "execute_result",
          "data": {
            "text/plain": [
              "[<tensorflow.python.keras.layers.core.Flatten at 0x7f30e24be450>,\n",
              " <tensorflow.python.keras.layers.core.Dense at 0x7f30e24bec50>,\n",
              " <tensorflow.python.keras.layers.core.Dense at 0x7f30e54ff1d0>,\n",
              " <tensorflow.python.keras.layers.core.Dense at 0x7f30e54ff450>]"
            ]
          },
          "metadata": {
            "tags": []
          },
          "execution_count": 18
        }
      ]
    },
    {
      "cell_type": "code",
      "metadata": {
        "colab": {
          "base_uri": "https://localhost:8080/",
          "height": 35
        },
        "id": "TkKMKCRCGChE",
        "outputId": "52717edb-c429-40ce-f4f8-22e7221a6e8e"
      },
      "source": [
        "model.layers[1].name"
      ],
      "execution_count": 20,
      "outputs": [
        {
          "output_type": "execute_result",
          "data": {
            "application/vnd.google.colaboratory.intrinsic+json": {
              "type": "string"
            },
            "text/plain": [
              "'dense_6'"
            ]
          },
          "metadata": {
            "tags": []
          },
          "execution_count": 20
        }
      ]
    },
    {
      "cell_type": "code",
      "metadata": {
        "id": "DcpUa03NGCmv"
      },
      "source": [
        "weights,biases=model.layers[1].get_weights()"
      ],
      "execution_count": 22,
      "outputs": []
    },
    {
      "cell_type": "code",
      "metadata": {
        "colab": {
          "base_uri": "https://localhost:8080/"
        },
        "id": "5aKgyedbGCqJ",
        "outputId": "4e0ec154-b07d-448e-8296-8ae05b7cd10b"
      },
      "source": [
        "weights"
      ],
      "execution_count": 23,
      "outputs": [
        {
          "output_type": "execute_result",
          "data": {
            "text/plain": [
              "array([[ 0.00098827,  0.0543596 , -0.04114588, ...,  0.06263295,\n",
              "         0.03741325, -0.06355113],\n",
              "       [-0.05551895,  0.06347317, -0.00649901, ...,  0.05198823,\n",
              "         0.04047085,  0.06941736],\n",
              "       [-0.03335167, -0.02137883,  0.04691875, ...,  0.02749757,\n",
              "         0.05182181,  0.0418345 ],\n",
              "       ...,\n",
              "       [ 0.07388544,  0.07110776, -0.05993227, ..., -0.00958013,\n",
              "        -0.04942641,  0.02301444],\n",
              "       [-0.02395632, -0.06438786,  0.01828116, ...,  0.06356901,\n",
              "        -0.05026947, -0.02042335],\n",
              "       [ 0.06576265, -0.07304054,  0.00054687, ...,  0.02542418,\n",
              "        -0.02255496,  0.0444447 ]], dtype=float32)"
            ]
          },
          "metadata": {
            "tags": []
          },
          "execution_count": 23
        }
      ]
    },
    {
      "cell_type": "code",
      "metadata": {
        "colab": {
          "base_uri": "https://localhost:8080/"
        },
        "id": "V3LCSj1rGCuB",
        "outputId": "6e309038-af58-4372-a757-73664cede7bf"
      },
      "source": [
        "biases"
      ],
      "execution_count": 25,
      "outputs": [
        {
          "output_type": "execute_result",
          "data": {
            "text/plain": [
              "array([0., 0., 0., 0., 0., 0., 0., 0., 0., 0., 0., 0., 0., 0., 0., 0., 0.,\n",
              "       0., 0., 0., 0., 0., 0., 0., 0., 0., 0., 0., 0., 0., 0., 0., 0., 0.,\n",
              "       0., 0., 0., 0., 0., 0., 0., 0., 0., 0., 0., 0., 0., 0., 0., 0., 0.,\n",
              "       0., 0., 0., 0., 0., 0., 0., 0., 0., 0., 0., 0., 0., 0., 0., 0., 0.,\n",
              "       0., 0., 0., 0., 0., 0., 0., 0., 0., 0., 0., 0., 0., 0., 0., 0., 0.,\n",
              "       0., 0., 0., 0., 0., 0., 0., 0., 0., 0., 0., 0., 0., 0., 0., 0., 0.,\n",
              "       0., 0., 0., 0., 0., 0., 0., 0., 0., 0., 0., 0., 0., 0., 0., 0., 0.,\n",
              "       0., 0., 0., 0., 0., 0., 0., 0., 0., 0., 0., 0., 0., 0., 0., 0., 0.,\n",
              "       0., 0., 0., 0., 0., 0., 0., 0., 0., 0., 0., 0., 0., 0., 0., 0., 0.,\n",
              "       0., 0., 0., 0., 0., 0., 0., 0., 0., 0., 0., 0., 0., 0., 0., 0., 0.,\n",
              "       0., 0., 0., 0., 0., 0., 0., 0., 0., 0., 0., 0., 0., 0., 0., 0., 0.,\n",
              "       0., 0., 0., 0., 0., 0., 0., 0., 0., 0., 0., 0., 0., 0., 0., 0., 0.,\n",
              "       0., 0., 0., 0., 0., 0., 0., 0., 0., 0., 0., 0., 0., 0., 0., 0., 0.,\n",
              "       0., 0., 0., 0., 0., 0., 0., 0., 0., 0., 0., 0., 0., 0., 0., 0., 0.,\n",
              "       0., 0., 0., 0., 0., 0., 0., 0., 0., 0., 0., 0., 0., 0., 0., 0., 0.,\n",
              "       0., 0., 0., 0., 0., 0., 0., 0., 0., 0., 0., 0., 0., 0., 0., 0., 0.,\n",
              "       0., 0., 0., 0., 0., 0., 0., 0., 0., 0., 0., 0., 0., 0., 0., 0., 0.,\n",
              "       0., 0., 0., 0., 0., 0., 0., 0., 0., 0., 0.], dtype=float32)"
            ]
          },
          "metadata": {
            "tags": []
          },
          "execution_count": 25
        }
      ]
    },
    {
      "cell_type": "code",
      "metadata": {
        "id": "2f0kedHsGtaW"
      },
      "source": [
        "model.compile(loss=\"sparse_categorical_crossentropy\",\n",
        "              optimizer=\"sgd\",\n",
        "              metrics=[\"accuracy\"])"
      ],
      "execution_count": 26,
      "outputs": []
    },
    {
      "cell_type": "code",
      "metadata": {
        "colab": {
          "base_uri": "https://localhost:8080/"
        },
        "id": "ihAbYCyYGtks",
        "outputId": "c88e6b70-34aa-4b4d-9b69-804ba5e34024"
      },
      "source": [
        "history=model.fit(X_train,y_train,epochs=30, validation_data=(X_valid,y_valid))"
      ],
      "execution_count": 27,
      "outputs": [
        {
          "output_type": "stream",
          "text": [
            "Epoch 1/30\n",
            "1719/1719 [==============================] - 5s 2ms/step - loss: 0.9690 - accuracy: 0.6952 - val_loss: 0.5457 - val_accuracy: 0.8182\n",
            "Epoch 2/30\n",
            "1719/1719 [==============================] - 4s 2ms/step - loss: 0.5026 - accuracy: 0.8268 - val_loss: 0.4846 - val_accuracy: 0.8302\n",
            "Epoch 3/30\n",
            "1719/1719 [==============================] - 4s 2ms/step - loss: 0.4554 - accuracy: 0.8388 - val_loss: 0.4437 - val_accuracy: 0.8500\n",
            "Epoch 4/30\n",
            "1719/1719 [==============================] - 4s 2ms/step - loss: 0.4288 - accuracy: 0.8509 - val_loss: 0.4286 - val_accuracy: 0.8466\n",
            "Epoch 5/30\n",
            "1719/1719 [==============================] - 4s 2ms/step - loss: 0.4061 - accuracy: 0.8572 - val_loss: 0.3866 - val_accuracy: 0.8708\n",
            "Epoch 6/30\n",
            "1719/1719 [==============================] - 4s 2ms/step - loss: 0.3852 - accuracy: 0.8658 - val_loss: 0.3777 - val_accuracy: 0.8676\n",
            "Epoch 7/30\n",
            "1719/1719 [==============================] - 4s 2ms/step - loss: 0.3711 - accuracy: 0.8696 - val_loss: 0.3811 - val_accuracy: 0.8684\n",
            "Epoch 8/30\n",
            "1719/1719 [==============================] - 4s 2ms/step - loss: 0.3665 - accuracy: 0.8716 - val_loss: 0.3569 - val_accuracy: 0.8748\n",
            "Epoch 9/30\n",
            "1719/1719 [==============================] - 4s 2ms/step - loss: 0.3438 - accuracy: 0.8796 - val_loss: 0.3588 - val_accuracy: 0.8710\n",
            "Epoch 10/30\n",
            "1719/1719 [==============================] - 4s 2ms/step - loss: 0.3370 - accuracy: 0.8811 - val_loss: 0.3483 - val_accuracy: 0.8794\n",
            "Epoch 11/30\n",
            "1719/1719 [==============================] - 4s 2ms/step - loss: 0.3324 - accuracy: 0.8815 - val_loss: 0.3434 - val_accuracy: 0.8768\n",
            "Epoch 12/30\n",
            "1719/1719 [==============================] - 4s 2ms/step - loss: 0.3235 - accuracy: 0.8838 - val_loss: 0.3726 - val_accuracy: 0.8728\n",
            "Epoch 13/30\n",
            "1719/1719 [==============================] - 4s 2ms/step - loss: 0.3161 - accuracy: 0.8883 - val_loss: 0.3448 - val_accuracy: 0.8758\n",
            "Epoch 14/30\n",
            "1719/1719 [==============================] - 4s 2ms/step - loss: 0.3062 - accuracy: 0.8890 - val_loss: 0.3250 - val_accuracy: 0.8818\n",
            "Epoch 15/30\n",
            "1719/1719 [==============================] - 4s 2ms/step - loss: 0.2976 - accuracy: 0.8940 - val_loss: 0.3347 - val_accuracy: 0.8808\n",
            "Epoch 16/30\n",
            "1719/1719 [==============================] - 4s 2ms/step - loss: 0.2883 - accuracy: 0.8971 - val_loss: 0.3251 - val_accuracy: 0.8850\n",
            "Epoch 17/30\n",
            "1719/1719 [==============================] - 4s 2ms/step - loss: 0.2816 - accuracy: 0.9005 - val_loss: 0.3121 - val_accuracy: 0.8898\n",
            "Epoch 18/30\n",
            "1719/1719 [==============================] - 4s 2ms/step - loss: 0.2790 - accuracy: 0.9011 - val_loss: 0.3320 - val_accuracy: 0.8780\n",
            "Epoch 19/30\n",
            "1719/1719 [==============================] - 4s 2ms/step - loss: 0.2734 - accuracy: 0.9016 - val_loss: 0.3138 - val_accuracy: 0.8876\n",
            "Epoch 20/30\n",
            "1719/1719 [==============================] - 4s 2ms/step - loss: 0.2764 - accuracy: 0.9002 - val_loss: 0.3155 - val_accuracy: 0.8848\n",
            "Epoch 21/30\n",
            "1719/1719 [==============================] - 4s 2ms/step - loss: 0.2667 - accuracy: 0.9036 - val_loss: 0.3020 - val_accuracy: 0.8928\n",
            "Epoch 22/30\n",
            "1719/1719 [==============================] - 4s 2ms/step - loss: 0.2619 - accuracy: 0.9068 - val_loss: 0.3182 - val_accuracy: 0.8832\n",
            "Epoch 23/30\n",
            "1719/1719 [==============================] - 4s 2ms/step - loss: 0.2530 - accuracy: 0.9085 - val_loss: 0.3448 - val_accuracy: 0.8748\n",
            "Epoch 24/30\n",
            "1719/1719 [==============================] - 4s 2ms/step - loss: 0.2492 - accuracy: 0.9105 - val_loss: 0.3100 - val_accuracy: 0.8886\n",
            "Epoch 25/30\n",
            "1719/1719 [==============================] - 4s 2ms/step - loss: 0.2480 - accuracy: 0.9104 - val_loss: 0.3003 - val_accuracy: 0.8936\n",
            "Epoch 26/30\n",
            "1719/1719 [==============================] - 4s 2ms/step - loss: 0.2420 - accuracy: 0.9146 - val_loss: 0.3015 - val_accuracy: 0.8916\n",
            "Epoch 27/30\n",
            "1719/1719 [==============================] - 4s 2ms/step - loss: 0.2415 - accuracy: 0.9148 - val_loss: 0.2930 - val_accuracy: 0.8952\n",
            "Epoch 28/30\n",
            "1719/1719 [==============================] - 4s 2ms/step - loss: 0.2431 - accuracy: 0.9111 - val_loss: 0.2984 - val_accuracy: 0.8930\n",
            "Epoch 29/30\n",
            "1719/1719 [==============================] - 4s 2ms/step - loss: 0.2320 - accuracy: 0.9160 - val_loss: 0.2937 - val_accuracy: 0.8958\n",
            "Epoch 30/30\n",
            "1719/1719 [==============================] - 4s 2ms/step - loss: 0.2248 - accuracy: 0.9177 - val_loss: 0.3047 - val_accuracy: 0.8918\n"
          ],
          "name": "stdout"
        }
      ]
    },
    {
      "cell_type": "code",
      "metadata": {
        "id": "uvVpVeSmKOUy"
      },
      "source": [
        "import pandas as pd \n",
        "import numpy as np\n",
        "import matplotlib.pyplot as plt"
      ],
      "execution_count": 45,
      "outputs": []
    },
    {
      "cell_type": "code",
      "metadata": {
        "colab": {
          "base_uri": "https://localhost:8080/",
          "height": 344
        },
        "id": "fBq18zTLKPLg",
        "outputId": "9e1215ca-6508-4b54-ebf2-71a3ea86285d"
      },
      "source": [
        "pd.DataFrame(history.history).plot(figsize=(8,5))\n",
        "plt.grid(True)\n",
        "plt.gca().set_ylim(0,1) #set vertical range 0 -1\n",
        "plt.show()"
      ],
      "execution_count": 30,
      "outputs": [
        {
          "output_type": "display_data",
          "data": {
            "image/png": "[encoded data removed]",
            "text/plain": [
              "<Figure size 576x360 with 1 Axes>"
            ]
          },
          "metadata": {
            "tags": [],
            "needs_background": "light"
          }
        }
      ]
    },
    {
      "cell_type": "code",
      "metadata": {
        "colab": {
          "base_uri": "https://localhost:8080/"
        },
        "id": "ivrJCL_RLycm",
        "outputId": "e17da920-8052-4b5d-f9be-4043aaee8197"
      },
      "source": [
        "model.evaluate(X_test,y_test)"
      ],
      "execution_count": 40,
      "outputs": [
        {
          "output_type": "stream",
          "text": [
            "313/313 [==============================] - 1s 2ms/step - loss: 77.7645 - accuracy: 0.8296\n"
          ],
          "name": "stdout"
        },
        {
          "output_type": "execute_result",
          "data": {
            "text/plain": [
              "[77.76454162597656, 0.8295999765396118]"
            ]
          },
          "metadata": {
            "tags": []
          },
          "execution_count": 40
        }
      ]
    },
    {
      "cell_type": "code",
      "metadata": {
        "colab": {
          "base_uri": "https://localhost:8080/"
        },
        "id": "5C_yBs3RLygx",
        "outputId": "2e52f8e5-3db4-4a02-d1a6-aec4db98044c"
      },
      "source": [
        "X_new=X_test[:3]\n",
        "y_proba=model.predict(X_new)\n",
        "y_proba.round(2)"
      ],
      "execution_count": 41,
      "outputs": [
        {
          "output_type": "execute_result",
          "data": {
            "text/plain": [
              "array([[0., 0., 0., 0., 0., 0., 0., 0., 0., 1.],\n",
              "       [0., 0., 1., 0., 0., 0., 0., 0., 0., 0.],\n",
              "       [0., 1., 0., 0., 0., 0., 0., 0., 0., 0.]], dtype=float32)"
            ]
          },
          "metadata": {
            "tags": []
          },
          "execution_count": 41
        }
      ]
    },
    {
      "cell_type": "code",
      "metadata": {
        "colab": {
          "base_uri": "https://localhost:8080/"
        },
        "id": "5gCKqpn8PAed",
        "outputId": "7367a7bc-e724-4b93-942b-47820837fb54"
      },
      "source": [
        "y_pred=model.predict_classes(X_new)\n",
        "np.array(class_name)[y_pred]"
      ],
      "execution_count": 48,
      "outputs": [
        {
          "output_type": "stream",
          "text": [
            "/usr/local/lib/python3.7/dist-packages/tensorflow/python/keras/engine/sequential.py:450: UserWarning: `model.predict_classes()` is deprecated and will be removed after 2021-01-01. Please use instead:* `np.argmax(model.predict(x), axis=-1)`,   if your model does multi-class classification   (e.g. if it uses a `softmax` last-layer activation).* `(model.predict(x) > 0.5).astype(\"int32\")`,   if your model does binary classification   (e.g. if it uses a `sigmoid` last-layer activation).\n",
            "  warnings.warn('`model.predict_classes()` is deprecated and '\n"
          ],
          "name": "stderr"
        },
        {
          "output_type": "execute_result",
          "data": {
            "text/plain": [
              "array(['Ankle boot', 'Pullover', 'Trousers'], dtype='<U11')"
            ]
          },
          "metadata": {
            "tags": []
          },
          "execution_count": 48
        }
      ]
    },
    {
      "cell_type": "code",
      "metadata": {
        "id": "R9cn1-aYPAog"
      },
      "source": [
        "model.save(\"Fashion.h5\")"
      ],
      "execution_count": 49,
      "outputs": []
    }
  ]
}
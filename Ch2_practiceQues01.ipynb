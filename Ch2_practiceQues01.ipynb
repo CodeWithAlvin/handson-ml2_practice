{
  "nbformat": 4,
  "nbformat_minor": 0,
  "metadata": {
    "colab": {
      "name": "Ch2_practiceQues01.ipynb",
      "provenance": [],
      "collapsed_sections": [],
      "mount_file_id": "1DpeHuMlTRlDiJKNb34OQfKy-lGodVpeL",
      "authorship_tag": "ABX9TyMW0Gx8BNNfedOuSe1DnYjd",
      "include_colab_link": true
    },
    "kernelspec": {
      "name": "python3",
      "display_name": "Python 3"
    }
  },
  "cells": [
    {
      "cell_type": "markdown",
      "metadata": {
        "id": "view-in-github",
        "colab_type": "text"
      },
      "source": [
        "<a href=\"https://colab.research.google.com/github/CodeWithAlvin/handson-ml2_practice/blob/main/Ch2_practiceQues01.ipynb\" target=\"_parent\"><img src=\"https://colab.research.google.com/assets/colab-badge.svg\" alt=\"Open In Colab\"/></a>"
      ]
    },
    {
      "cell_type": "markdown",
      "metadata": {
        "id": "tQrnzrW0cQo6"
      },
      "source": [
        "# try SVR on california housing dataset"
      ]
    },
    {
      "cell_type": "code",
      "metadata": {
        "id": "XzaKvP5ET2SI"
      },
      "source": [
        "link=\"https://github.com/ageron/handson-ml2/blob/master/datasets/housing/housing.csv?raw=true\""
      ],
      "execution_count": 59,
      "outputs": []
    },
    {
      "cell_type": "code",
      "metadata": {
        "id": "FEjhimBPUkiG"
      },
      "source": [
        "import urllib.request"
      ],
      "execution_count": 60,
      "outputs": []
    },
    {
      "cell_type": "code",
      "metadata": {
        "id": "mse4JQQJeLuF"
      },
      "source": [
        "data=urllib.request.urlretrieve(link,\"/content/data.csv\")"
      ],
      "execution_count": 61,
      "outputs": []
    },
    {
      "cell_type": "code",
      "metadata": {
        "id": "mHNHHSxfeWMy"
      },
      "source": [
        "import pandas as pd\n",
        "import numpy as np"
      ],
      "execution_count": 62,
      "outputs": []
    },
    {
      "cell_type": "code",
      "metadata": {
        "id": "Ryo7rSpKe2Xz"
      },
      "source": [
        "dataset=pd.read_csv(\"/content/data.csv\")"
      ],
      "execution_count": 63,
      "outputs": []
    },
    {
      "cell_type": "code",
      "metadata": {
        "id": "jsF7vvM8gbsv"
      },
      "source": [
        "from sklearn.model_selection import train_test_split,RandomizedSearchCV\n",
        "from sklearn.svm import SVR\n",
        "from sklearn.preprocessing import OneHotEncoder,StandardScaler\n",
        "from sklearn.pipeline import Pipeline\n",
        "from sklearn.impute import SimpleImputer"
      ],
      "execution_count": 72,
      "outputs": []
    },
    {
      "cell_type": "code",
      "metadata": {
        "id": "nG2NMGUyegrQ"
      },
      "source": [
        "X=dataset.drop(\"median_house_value\",axis=1)\n",
        "y=dataset[\"median_house_value\"]\n",
        "train_X,test_X,train_y,test_y=train_test_split(X,y,test_size=0.2,random_state=42)"
      ],
      "execution_count": 65,
      "outputs": []
    },
    {
      "cell_type": "code",
      "metadata": {
        "id": "DckTIP0JdQa1"
      },
      "source": [
        "def Processor(X):\n",
        "  \"\"\"\n",
        "  seprating objects and numeric data and then it will be pass to pipeline and concatenated again\n",
        "  \"\"\"\n",
        "  column=X.columns\n",
        "  numbers=pd.DataFrame()\n",
        "  others=pd.DataFrame()\n",
        "\n",
        "  # SPLITTING UP D/F DATATYPES\n",
        "  for i in column:\n",
        "    if (X[i].dtype==object) or (X[i].dtype==str):\n",
        "      others[i]=X[i]\n",
        "    else:\n",
        "      numbers[i]=X[i]\n",
        "\n",
        "  #PIPELINE FOR NUMBERS\n",
        "  num_pipe=Pipeline([('imputer',SimpleImputer(strategy=\"median\")),\n",
        "                     ('std_scaler', StandardScaler())\n",
        "                     ])\n",
        "  \n",
        "  #OUTPUT FROM NUMBER PIPELINE\n",
        "  res_num=num_pipe.fit_transform(numbers)\n",
        "\n",
        "  # PIPELINE FOR OBJ OR STR\n",
        "  if len(others) > 1:\n",
        "    object_pipe=Pipeline([(\"cat\", OneHotEncoder()),\n",
        "                        ])\n",
        "    \n",
        "    # OUTPUT FROM OBJ PIPELINE\n",
        "    res_obj=object_pipe.fit_transform(others).toarray()\n",
        "    \n",
        "    #CONCATINATING FINAL DATA \n",
        "\n",
        "    final_data=np.c_[res_num,res_obj]\n",
        "  else  :\n",
        "    final_data=res_num\n",
        "    \n",
        "  return final_data"
      ],
      "execution_count": 66,
      "outputs": []
    },
    {
      "cell_type": "code",
      "metadata": {
        "id": "aJduE4TseOOa"
      },
      "source": [
        "processed_train_X=Processor(train_X)"
      ],
      "execution_count": 70,
      "outputs": []
    },
    {
      "cell_type": "code",
      "metadata": {
        "id": "Bz3rtTf8hulY"
      },
      "source": [
        "model = SVR()"
      ],
      "execution_count": 71,
      "outputs": []
    },
    {
      "cell_type": "code",
      "metadata": {
        "id": "Do9SFAPhKT9O"
      },
      "source": [
        "C_range = 10. ** np.arange(-3, 8)\n",
        "gamma_range = 10. ** np.arange(-5, 4)\n",
        "params=dict(gamma=gamma_range, C=C_range,kernel=[\"linear\",\"rbf\",\"poly\"])"
      ],
      "execution_count": 77,
      "outputs": []
    },
    {
      "cell_type": "code",
      "metadata": {
        "id": "KIanqRj2l35S"
      },
      "source": [
        "random_search=RandomizedSearchCV(model,return_train_score=True,n_iter=20,param_distributions=params)"
      ],
      "execution_count": 78,
      "outputs": []
    },
    {
      "cell_type": "code",
      "metadata": {
        "id": "TJjV04T3qpCv"
      },
      "source": [
        "random_search.fit(processed_train_X,train_y)"
      ],
      "execution_count": null,
      "outputs": []
    },
    {
      "cell_type": "code",
      "metadata": {
        "id": "o0p53HamE1Ia"
      },
      "source": [
        "grid.best_estimator_"
      ],
      "execution_count": null,
      "outputs": []
    },
    {
      "cell_type": "code",
      "metadata": {
        "id": "MYH1kcwUB6ZL"
      },
      "source": [
        ""
      ],
      "execution_count": 68,
      "outputs": []
    },
    {
      "cell_type": "code",
      "metadata": {
        "id": "LGmZCEYwB_xe"
      },
      "source": [
        ""
      ],
      "execution_count": 68,
      "outputs": []
    }
  ]
}
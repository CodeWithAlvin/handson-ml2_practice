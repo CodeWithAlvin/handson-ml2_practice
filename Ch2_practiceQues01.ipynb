{
  "nbformat": 4,
  "nbformat_minor": 0,
  "metadata": {
    "colab": {
      "name": "Ch2_practiceQues01.ipynb",
      "provenance": [],
      "collapsed_sections": [],
      "mount_file_id": "1DpeHuMlTRlDiJKNb34OQfKy-lGodVpeL",
      "authorship_tag": "ABX9TyPIQPgXADg4K9Rh9iKK8eNl",
      "include_colab_link": true
    },
    "kernelspec": {
      "name": "python3",
      "display_name": "Python 3"
    }
  },
  "cells": [
    {
      "cell_type": "markdown",
      "metadata": {
        "id": "view-in-github",
        "colab_type": "text"
      },
      "source": [
        "<a href=\"https://colab.research.google.com/github/CodeWithAlvin/handson-ml2_practice/blob/main/Ch2_practiceQues01.ipynb\" target=\"_parent\"><img src=\"https://colab.research.google.com/assets/colab-badge.svg\" alt=\"Open In Colab\"/></a>"
      ]
    },
    {
      "cell_type": "markdown",
      "metadata": {
        "id": "tQrnzrW0cQo6"
      },
      "source": [
        "# try SVR on california housing dataset"
      ]
    },
    {
      "cell_type": "code",
      "metadata": {
        "id": "XzaKvP5ET2SI"
      },
      "source": [
        "link=\"https://github.com/ageron/handson-ml2/blob/master/datasets/housing/housing.csv?raw=true\""
      ],
      "execution_count": 2,
      "outputs": []
    },
    {
      "cell_type": "code",
      "metadata": {
        "id": "FEjhimBPUkiG"
      },
      "source": [
        "import urllib.request"
      ],
      "execution_count": 3,
      "outputs": []
    },
    {
      "cell_type": "code",
      "metadata": {
        "id": "mse4JQQJeLuF"
      },
      "source": [
        "data=urllib.request.urlretrieve(link,\"/content/data.csv\")"
      ],
      "execution_count": 4,
      "outputs": []
    },
    {
      "cell_type": "code",
      "metadata": {
        "id": "mHNHHSxfeWMy"
      },
      "source": [
        "import pandas as pd\n",
        "import numpy as np"
      ],
      "execution_count": 5,
      "outputs": []
    },
    {
      "cell_type": "code",
      "metadata": {
        "id": "Ryo7rSpKe2Xz"
      },
      "source": [
        "dataset=pd.read_csv(\"/content/data.csv\")"
      ],
      "execution_count": 6,
      "outputs": []
    },
    {
      "cell_type": "code",
      "metadata": {
        "id": "jsF7vvM8gbsv"
      },
      "source": [
        "from sklearn.model_selection import train_test_split,RandomizedSearchCV\n",
        "from sklearn.svm import SVR\n",
        "from sklearn.ensemble import RandomForestRegressor\n",
        "from sklearn.preprocessing import OneHotEncoder,StandardScaler\n",
        "from sklearn.pipeline import Pipeline\n",
        "from sklearn.impute import SimpleImputer"
      ],
      "execution_count": 28,
      "outputs": []
    },
    {
      "cell_type": "code",
      "metadata": {
        "id": "nG2NMGUyegrQ"
      },
      "source": [
        "X=dataset.drop(\"median_house_value\",axis=1)\n",
        "y=dataset[\"median_house_value\"]\n",
        "train_X,test_X,train_y,test_y=train_test_split(X,y,test_size=0.2,random_state=42)"
      ],
      "execution_count": 8,
      "outputs": []
    },
    {
      "cell_type": "code",
      "metadata": {
        "id": "DckTIP0JdQa1"
      },
      "source": [
        "def Processor(X):\n",
        "  \"\"\"\n",
        "  seprating objects and numeric data and then it will be pass to pipeline and concatenated again\n",
        "  \"\"\"\n",
        "  column=X.columns\n",
        "  numbers=pd.DataFrame()\n",
        "  others=pd.DataFrame()\n",
        "\n",
        "  # SPLITTING UP D/F DATATYPES\n",
        "  for i in column:\n",
        "    if (X[i].dtype==object) or (X[i].dtype==str):\n",
        "      others[i]=X[i]\n",
        "    else:\n",
        "      numbers[i]=X[i]\n",
        "\n",
        "  #PIPELINE FOR NUMBERS\n",
        "  num_pipe=Pipeline([('imputer',SimpleImputer(strategy=\"median\")),\n",
        "                     ('std_scaler', StandardScaler())\n",
        "                     ])\n",
        "  \n",
        "  #OUTPUT FROM NUMBER PIPELINE\n",
        "  res_num=num_pipe.fit_transform(numbers)\n",
        "\n",
        "  # PIPELINE FOR OBJ OR STR\n",
        "  if len(others) > 1:\n",
        "    object_pipe=Pipeline([(\"cat\", OneHotEncoder()),\n",
        "                        ])\n",
        "    \n",
        "    # OUTPUT FROM OBJ PIPELINE\n",
        "    res_obj=object_pipe.fit_transform(others).toarray()\n",
        "    \n",
        "    #CONCATINATING FINAL DATA \n",
        "\n",
        "    final_data=np.c_[res_num,res_obj]\n",
        "  else  :\n",
        "    final_data=res_num\n",
        "    \n",
        "  return final_data"
      ],
      "execution_count": 9,
      "outputs": []
    },
    {
      "cell_type": "code",
      "metadata": {
        "id": "aJduE4TseOOa"
      },
      "source": [
        "processed_train_X=Processor(train_X)"
      ],
      "execution_count": 10,
      "outputs": []
    },
    {
      "cell_type": "code",
      "metadata": {
        "id": "Bz3rtTf8hulY"
      },
      "source": [
        "model = SVR()"
      ],
      "execution_count": 11,
      "outputs": []
    },
    {
      "cell_type": "code",
      "metadata": {
        "id": "Do9SFAPhKT9O"
      },
      "source": [
        "C_range = 10. ** np.arange(-3, 8)\n",
        "gamma_range = 10. ** np.arange(-5, 4)\n",
        "params=dict(gamma=gamma_range, C=C_range,kernel=[\"linear\",\"rbf\",\"poly\"])"
      ],
      "execution_count": 12,
      "outputs": []
    },
    {
      "cell_type": "code",
      "metadata": {
        "id": "KIanqRj2l35S"
      },
      "source": [
        "random_search=RandomizedSearchCV(model,return_train_score=True,n_iter=20,param_distributions=params)"
      ],
      "execution_count": 13,
      "outputs": []
    },
    {
      "cell_type": "code",
      "metadata": {
        "id": "TJjV04T3qpCv"
      },
      "source": [
        "#random_search.fit(processed_train_X,train_y)"
      ],
      "execution_count": 14,
      "outputs": []
    },
    {
      "cell_type": "code",
      "metadata": {
        "id": "o0p53HamE1Ia"
      },
      "source": [
        "#random_search.best_estimator_"
      ],
      "execution_count": 15,
      "outputs": []
    },
    {
      "cell_type": "code",
      "metadata": {
        "id": "MYH1kcwUB6ZL"
      },
      "source": [
        "fr=RandomForestRegressor()"
      ],
      "execution_count": 29,
      "outputs": []
    },
    {
      "cell_type": "code",
      "metadata": {
        "colab": {
          "base_uri": "https://localhost:8080/"
        },
        "id": "LGmZCEYwB_xe",
        "outputId": "15de5b98-c2e9-406e-f75f-5a164213278c"
      },
      "source": [
        "fr.fit(processed_train_X,train_y)"
      ],
      "execution_count": 30,
      "outputs": [
        {
          "output_type": "execute_result",
          "data": {
            "text/plain": [
              "RandomForestRegressor(bootstrap=True, ccp_alpha=0.0, criterion='mse',\n",
              "                      max_depth=None, max_features='auto', max_leaf_nodes=None,\n",
              "                      max_samples=None, min_impurity_decrease=0.0,\n",
              "                      min_impurity_split=None, min_samples_leaf=1,\n",
              "                      min_samples_split=2, min_weight_fraction_leaf=0.0,\n",
              "                      n_estimators=100, n_jobs=None, oob_score=False,\n",
              "                      random_state=None, verbose=0, warm_start=False)"
            ]
          },
          "metadata": {
            "tags": []
          },
          "execution_count": 30
        }
      ]
    },
    {
      "cell_type": "code",
      "metadata": {
        "id": "MVGBZCk9NIIr"
      },
      "source": [
        "y_pred=fr.predict(processed_train_X)"
      ],
      "execution_count": 38,
      "outputs": []
    },
    {
      "cell_type": "markdown",
      "metadata": {
        "id": "SLnu80PtNaT6"
      },
      "source": [
        "# evaluating the model"
      ]
    },
    {
      "cell_type": "code",
      "metadata": {
        "id": "7u3nU8qpNXzb"
      },
      "source": [
        "from sklearn.model_selection import cross_val_score\n",
        "from sklearn.metrics import mean_squared_error"
      ],
      "execution_count": 39,
      "outputs": []
    },
    {
      "cell_type": "code",
      "metadata": {
        "colab": {
          "base_uri": "https://localhost:8080/"
        },
        "id": "TSIP4xYdOTyk",
        "outputId": "ea7298ba-0116-4d2b-d10d-3aca4ee4d46f"
      },
      "source": [
        "mse=mean_squared_error(train_y,y_pred)\n",
        "print(\"RMSE : \",np.sqrt(mse))"
      ],
      "execution_count": 40,
      "outputs": [
        {
          "output_type": "stream",
          "text": [
            "RMSE :  18100.852764546868\n"
          ],
          "name": "stdout"
        }
      ]
    },
    {
      "cell_type": "code",
      "metadata": {
        "colab": {
          "base_uri": "https://localhost:8080/"
        },
        "id": "Gu-rNDW3Omlh",
        "outputId": "490c82d5-9b79-4998-8199-6449af9484c4"
      },
      "source": [
        "fr.score(processed_train_X,train_y)"
      ],
      "execution_count": 41,
      "outputs": [
        {
          "output_type": "execute_result",
          "data": {
            "text/plain": [
              "0.9754902594974809"
            ]
          },
          "metadata": {
            "tags": []
          },
          "execution_count": 41
        }
      ]
    },
    {
      "cell_type": "code",
      "metadata": {
        "id": "SFIl6pjeQFN1"
      },
      "source": [
        ""
      ],
      "execution_count": null,
      "outputs": []
    }
  ]
}
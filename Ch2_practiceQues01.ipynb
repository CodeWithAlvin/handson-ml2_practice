{
  "nbformat": 4,
  "nbformat_minor": 0,
  "metadata": {
    "colab": {
      "name": "Ch2_practiceQues01.ipynb",
      "provenance": [],
      "collapsed_sections": [],
      "mount_file_id": "1DpeHuMlTRlDiJKNb34OQfKy-lGodVpeL",
      "authorship_tag": "ABX9TyMPPr5HTDU6dyxqg+tI12zG",
      "include_colab_link": true
    },
    "kernelspec": {
      "name": "python3",
      "display_name": "Python 3"
    }
  },
  "cells": [
    {
      "cell_type": "markdown",
      "metadata": {
        "id": "view-in-github",
        "colab_type": "text"
      },
      "source": [
        "<a href=\"https://colab.research.google.com/github/CodeWithAlvin/handson-ml2_practice/blob/main/Ch2_practiceQues01.ipynb\" target=\"_parent\"><img src=\"https://colab.research.google.com/assets/colab-badge.svg\" alt=\"Open In Colab\"/></a>"
      ]
    },
    {
      "cell_type": "markdown",
      "metadata": {
        "id": "tQrnzrW0cQo6"
      },
      "source": [
        "# try SVR on california housing dataset"
      ]
    },
    {
      "cell_type": "code",
      "metadata": {
        "id": "XzaKvP5ET2SI"
      },
      "source": [
        "link=\"https://github.com/ageron/handson-ml2/blob/master/datasets/housing/housing.csv?raw=true\""
      ],
      "execution_count": 2,
      "outputs": []
    },
    {
      "cell_type": "code",
      "metadata": {
        "id": "FEjhimBPUkiG"
      },
      "source": [
        "import urllib.request"
      ],
      "execution_count": 3,
      "outputs": []
    },
    {
      "cell_type": "code",
      "metadata": {
        "id": "mse4JQQJeLuF"
      },
      "source": [
        "data=urllib.request.urlretrieve(link,\"/content/data.csv\")"
      ],
      "execution_count": 4,
      "outputs": []
    },
    {
      "cell_type": "code",
      "metadata": {
        "id": "mHNHHSxfeWMy"
      },
      "source": [
        "import pandas as pd\n",
        "import numpy as np"
      ],
      "execution_count": 5,
      "outputs": []
    },
    {
      "cell_type": "code",
      "metadata": {
        "id": "Ryo7rSpKe2Xz"
      },
      "source": [
        "dataset=pd.read_csv(\"/content/data.csv\")"
      ],
      "execution_count": 6,
      "outputs": []
    },
    {
      "cell_type": "code",
      "metadata": {
        "id": "jsF7vvM8gbsv"
      },
      "source": [
        "from sklearn.model_selection import train_test_split,RandomizedSearchCV\n",
        "from sklearn.svm import SVR\n",
        "from sklearn.preprocessing import OneHotEncoder,StandardScaler\n",
        "from sklearn.pipeline import Pipeline\n",
        "from sklearn.impute import SimpleImputer"
      ],
      "execution_count": 7,
      "outputs": []
    },
    {
      "cell_type": "code",
      "metadata": {
        "id": "nG2NMGUyegrQ"
      },
      "source": [
        "X=dataset.drop(\"median_house_value\",axis=1)\n",
        "y=dataset[\"median_house_value\"]\n",
        "train_X,test_X,train_y,test_y=train_test_split(X,y,test_size=0.2,random_state=42)"
      ],
      "execution_count": 8,
      "outputs": []
    },
    {
      "cell_type": "code",
      "metadata": {
        "id": "DckTIP0JdQa1"
      },
      "source": [
        "def Processor(X):\n",
        "  \"\"\"\n",
        "  seprating objects and numeric data and then it will be pass to pipeline and concatenated again\n",
        "  \"\"\"\n",
        "  column=X.columns\n",
        "  numbers=pd.DataFrame()\n",
        "  others=pd.DataFrame()\n",
        "\n",
        "  # SPLITTING UP D/F DATATYPES\n",
        "  for i in column:\n",
        "    if (X[i].dtype==object) or (X[i].dtype==str):\n",
        "      others[i]=X[i]\n",
        "    else:\n",
        "      numbers[i]=X[i]\n",
        "\n",
        "  #PIPELINE FOR NUMBERS\n",
        "  num_pipe=Pipeline([('imputer',SimpleImputer(strategy=\"median\")),\n",
        "                     ('std_scaler', StandardScaler())\n",
        "                     ])\n",
        "  \n",
        "  #OUTPUT FROM NUMBER PIPELINE\n",
        "  res_num=num_pipe.fit_transform(numbers)\n",
        "\n",
        "  # PIPELINE FOR OBJ OR STR\n",
        "  if len(others) > 1:\n",
        "    object_pipe=Pipeline([(\"cat\", OneHotEncoder()),\n",
        "                        ])\n",
        "    \n",
        "    # OUTPUT FROM OBJ PIPELINE\n",
        "    res_obj=object_pipe.fit_transform(others).toarray()\n",
        "    \n",
        "    #CONCATINATING FINAL DATA \n",
        "\n",
        "    final_data=np.c_[res_num,res_obj]\n",
        "  else  :\n",
        "    final_data=res_num\n",
        "    \n",
        "  return final_data"
      ],
      "execution_count": 9,
      "outputs": []
    },
    {
      "cell_type": "code",
      "metadata": {
        "id": "aJduE4TseOOa"
      },
      "source": [
        "processed_train_X=Processor(train_X)"
      ],
      "execution_count": 10,
      "outputs": []
    },
    {
      "cell_type": "code",
      "metadata": {
        "id": "Bz3rtTf8hulY"
      },
      "source": [
        "model = SVR()"
      ],
      "execution_count": 11,
      "outputs": []
    },
    {
      "cell_type": "code",
      "metadata": {
        "id": "Do9SFAPhKT9O"
      },
      "source": [
        "C_range = 10. ** np.arange(-3, 8)\n",
        "gamma_range = 10. ** np.arange(-5, 4)\n",
        "params=dict(gamma=gamma_range, C=C_range,kernel=[\"linear\",\"rbf\",\"poly\"])"
      ],
      "execution_count": 12,
      "outputs": []
    },
    {
      "cell_type": "code",
      "metadata": {
        "id": "KIanqRj2l35S"
      },
      "source": [
        "random_search=RandomizedSearchCV(model,return_train_score=True,n_iter=20,param_distributions=params)"
      ],
      "execution_count": 13,
      "outputs": []
    },
    {
      "cell_type": "code",
      "metadata": {
        "id": "TJjV04T3qpCv"
      },
      "source": [
        "#random_search.fit(processed_train_X,train_y)"
      ],
      "execution_count": 14,
      "outputs": []
    },
    {
      "cell_type": "code",
      "metadata": {
        "id": "o0p53HamE1Ia"
      },
      "source": [
        "#random_search.best_estimator_"
      ],
      "execution_count": 15,
      "outputs": []
    },
    {
      "cell_type": "code",
      "metadata": {
        "id": "MYH1kcwUB6ZL"
      },
      "source": [
        "Svm = SVR(C=1,gamma=\"auto\",kernel=\"poly\")"
      ],
      "execution_count": 23,
      "outputs": []
    },
    {
      "cell_type": "code",
      "metadata": {
        "colab": {
          "base_uri": "https://localhost:8080/"
        },
        "id": "LGmZCEYwB_xe",
        "outputId": "d279f1ce-9eb0-403d-8f67-d87c7a346aeb"
      },
      "source": [
        "Svm.fit(processed_train_X,train_y)"
      ],
      "execution_count": 24,
      "outputs": [
        {
          "output_type": "execute_result",
          "data": {
            "text/plain": [
              "SVR(C=1, cache_size=200, coef0=0.0, degree=3, epsilon=0.1, gamma='auto',\n",
              "    kernel='poly', max_iter=-1, shrinking=True, tol=0.001, verbose=False)"
            ]
          },
          "metadata": {
            "tags": []
          },
          "execution_count": 24
        }
      ]
    },
    {
      "cell_type": "code",
      "metadata": {
        "id": "MVGBZCk9NIIr"
      },
      "source": [
        "y_pred=Svm.predict(processed_train_X)"
      ],
      "execution_count": 25,
      "outputs": []
    },
    {
      "cell_type": "markdown",
      "metadata": {
        "id": "SLnu80PtNaT6"
      },
      "source": [
        "# evaluating the model"
      ]
    },
    {
      "cell_type": "code",
      "metadata": {
        "id": "7u3nU8qpNXzb"
      },
      "source": [
        "from sklearn.model_selection import cross_val_score\n",
        "from sklearn.metrics import mean_squared_error"
      ],
      "execution_count": 26,
      "outputs": []
    },
    {
      "cell_type": "code",
      "metadata": {
        "colab": {
          "base_uri": "https://localhost:8080/"
        },
        "id": "TSIP4xYdOTyk",
        "outputId": "4778f7a6-f675-4bb3-a1fb-518d4dabc462"
      },
      "source": [
        "mse=mean_squared_error(train_y,y_pred)\n",
        "print(\"RMSE : \",np.sqrt(mse))"
      ],
      "execution_count": 27,
      "outputs": [
        {
          "output_type": "stream",
          "text": [
            "RMSE :  118520.3897888169\n"
          ],
          "name": "stdout"
        }
      ]
    },
    {
      "cell_type": "code",
      "metadata": {
        "id": "Gu-rNDW3Omlh"
      },
      "source": [
        ""
      ],
      "execution_count": null,
      "outputs": []
    }
  ]
}